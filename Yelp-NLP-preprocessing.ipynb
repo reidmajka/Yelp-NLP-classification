{
 "cells": [
  {
   "cell_type": "markdown",
   "metadata": {},
   "source": [
    "# Processing Yelp Data for Machine Learning Classification\n",
    "\n",
    "Separate Notebook has been created due to large size of data files - too large to deal with directly in pandas, will have to preprocess as follows:\n",
    "\n",
    "1. iterate through json files for business and review data\n",
    "2. utilize sqlite3 to select relevant data, save to a new file\n",
    "3. process new dataframe through separate Notebook"
   ]
  },
  {
   "cell_type": "code",
   "execution_count": 4,
   "metadata": {},
   "outputs": [
    {
     "name": "stdout",
     "output_type": "stream",
     "text": [
      "Collecting ijson\n",
      "  Downloading ijson-3.2.3-cp38-cp38-win_amd64.whl (48 kB)\n",
      "Installing collected packages: ijson\n",
      "Successfully installed ijson-3.2.3\n"
     ]
    }
   ],
   "source": [
    "#!pip install ijson"
   ]
  },
  {
   "cell_type": "code",
   "execution_count": 2,
   "metadata": {},
   "outputs": [],
   "source": [
    "import pandas as pd\n",
    "import json\n",
    "import sqlite3\n",
    "import seaborn as sns\n",
    "from collections import Counter"
   ]
  },
  {
   "cell_type": "code",
   "execution_count": 3,
   "metadata": {},
   "outputs": [
    {
     "data": {
      "text/plain": [
       "['Santa Barbara',\n",
       " 'Affton',\n",
       " 'Tucson',\n",
       " 'Philadelphia',\n",
       " 'Green Lane',\n",
       " 'Ashland City',\n",
       " 'Brentwood',\n",
       " 'St. Petersburg',\n",
       " 'Affton',\n",
       " 'Nashville']"
      ]
     },
     "execution_count": 3,
     "metadata": {},
     "output_type": "execute_result"
    }
   ],
   "source": [
    "# Open the JSON file in read mode\n",
    "cities = []\n",
    "with open('data/yelp_academic_dataset_business.json', 'r', encoding='utf-8') as file:\n",
    "    # Initialize the JSON parser\n",
    "    parser = json.JSONDecoder()\n",
    "\n",
    "    # Read the file line by line\n",
    "    for line in file:\n",
    "        # Parse the JSON data from the current line\n",
    "        parsed_data, idx = parser.raw_decode(line)\n",
    "\n",
    "        # Process the parsed data\n",
    "        # Example: Print the city from each JSON object\n",
    "        if 'city' in parsed_data:\n",
    "            cities.append(parsed_data['city'])\n",
    "cities[:10]"
   ]
  },
  {
   "cell_type": "code",
   "execution_count": 4,
   "metadata": {},
   "outputs": [
    {
     "data": {
      "text/plain": [
       "[0, 1, 0, 1, 1, 1, 1, 1, 0, 1]"
      ]
     },
     "execution_count": 4,
     "metadata": {},
     "output_type": "execute_result"
    }
   ],
   "source": [
    "# Open the JSON file in read mode, create keyword variable for incremental features:\n",
    "keyword = 'is_open'\n",
    "keyword_list = []\n",
    "with open('data/yelp_academic_dataset_business.json', 'r', encoding='utf-8') as file:\n",
    "    # Initialize the JSON parser\n",
    "    parser = json.JSONDecoder()\n",
    "    for line in file:\n",
    "        parsed_data, idx = parser.raw_decode(line)\n",
    "        if keyword in parsed_data:\n",
    "            keyword_list.append(parsed_data[keyword])\n",
    "            \n",
    "keyword_list[:10]"
   ]
  },
  {
   "cell_type": "code",
   "execution_count": 5,
   "metadata": {},
   "outputs": [
    {
     "data": {
      "text/plain": [
       "150346"
      ]
     },
     "execution_count": 5,
     "metadata": {},
     "output_type": "execute_result"
    }
   ],
   "source": [
    "len(keyword_list)"
   ]
  },
  {
   "cell_type": "code",
   "execution_count": 7,
   "metadata": {},
   "outputs": [
    {
     "data": {
      "text/plain": [
       "[3.0, 5.0, 3.0, 5.0, 4.0, 1.0, 5.0, 5.0, 3.0, 3.0]"
      ]
     },
     "execution_count": 7,
     "metadata": {},
     "output_type": "execute_result"
    }
   ],
   "source": [
    "keyword = 'stars'\n",
    "keyword_list = []\n",
    "with open('data/yelp_academic_dataset_review.json', 'r', encoding='utf-8') as file:\n",
    "    parser = json.JSONDecoder()\n",
    "    for line in file:\n",
    "        parsed_data, idx = parser.raw_decode(line)\n",
    "        if keyword in parsed_data:\n",
    "            keyword_list.append(parsed_data[keyword])\n",
    "            \n",
    "keyword_list[:10]"
   ]
  },
  {
   "cell_type": "code",
   "execution_count": 15,
   "metadata": {},
   "outputs": [
    {
     "data": {
      "text/plain": [
       "6990280"
      ]
     },
     "execution_count": 15,
     "metadata": {},
     "output_type": "execute_result"
    }
   ],
   "source": [
    "len(keyword_list)"
   ]
  },
  {
   "cell_type": "code",
   "execution_count": 6,
   "metadata": {},
   "outputs": [
    {
     "name": "stdout",
     "output_type": "stream",
     "text": [
      "{0: 30648, 1: 119698}\n"
     ]
    }
   ],
   "source": [
    "element_counts = Counter(keyword_list)\n",
    "# Create a dictionary where keys are unique values and values are their counts\n",
    "unique_values_count_dict = {key: value for key, value in element_counts.items()}\n",
    "print(unique_values_count_dict)"
   ]
  },
  {
   "cell_type": "markdown",
   "metadata": {},
   "source": [
    "# Creating a Dataframe for desired data"
   ]
  },
  {
   "cell_type": "code",
   "execution_count": 3,
   "metadata": {
    "scrolled": true
   },
   "outputs": [],
   "source": [
    "# Create an SQLite connection and cursor\n",
    "conn = sqlite3.connect('yelp_data.db')\n",
    "cursor = conn.cursor()\n",
    "\n",
    "# Create tables for 'review' and 'business' data\n",
    "cursor.execute('''\n",
    "    CREATE TABLE IF NOT EXISTS review (\n",
    "        review_id TEXT PRIMARY KEY,\n",
    "        text TEXT,\n",
    "        business_id TEXT,\n",
    "        stars FLOAT\n",
    "    )\n",
    "''')\n",
    "\n",
    "cursor.execute('''\n",
    "    CREATE TABLE IF NOT EXISTS business (\n",
    "        business_id TEXT PRIMARY KEY,\n",
    "        is_open INTEGER,\n",
    "        review_count INTEGER,\n",
    "        stars FLOAT\n",
    "    )\n",
    "''')\n",
    "\n",
    "# Open and parse the review JSON file\n",
    "with open('yelp_data/yelp_academic_dataset_review.json', 'r', encoding='utf-8') as review_file:\n",
    "    for line in review_file:\n",
    "        review_data = json.loads(line)\n",
    "        cursor.execute('''\n",
    "            INSERT INTO review (review_id, text, business_id, stars)\n",
    "            VALUES (?, ?, ?, ?)\n",
    "        ''', (review_data['review_id'], review_data['text'], review_data['business_id'], review_data['stars']))\n",
    "\n",
    "# Open and parse the business JSON file\n",
    "with open('yelp_data/yelp_academic_dataset_business.json', 'r', encoding='utf-8') as business_file:\n",
    "    for line in business_file:\n",
    "        business_data = json.loads(line)\n",
    "        cursor.execute('''\n",
    "            INSERT INTO business (business_id, is_open, review_count, stars)\n",
    "            VALUES (?, ?, ?, ?)\n",
    "        ''', (business_data['business_id'], business_data['is_open'], business_data['review_count'], business_data['stars']))\n",
    "\n",
    "# Commit changes and close the connection\n",
    "conn.commit()\n",
    "conn.close()\n"
   ]
  },
  {
   "cell_type": "code",
   "execution_count": 10,
   "metadata": {},
   "outputs": [
    {
     "name": "stdout",
     "output_type": "stream",
     "text": [
      "                                                text  stars  stars  \\\n",
      "0  If you decide to eat here, just be aware it is...    3.0    3.0   \n",
      "1  I've taken a lot of spin classes over the year...    5.0    5.0   \n",
      "2  Family diner. Had the buffet. Eclectic assortm...    3.0    3.5   \n",
      "3  Wow!  Yummy, different,  delicious.   Our favo...    5.0    4.0   \n",
      "4  Cute interior and owner (?) gave us tour of up...    4.0    4.0   \n",
      "\n",
      "   review_count  is_open  \n",
      "0           169        1  \n",
      "1           144        0  \n",
      "2            47        1  \n",
      "3           181        1  \n",
      "4            32        0  \n"
     ]
    }
   ],
   "source": [
    "# Reconnect to the SQLite database\n",
    "conn = sqlite3.connect('yelp_data.db')\n",
    "\n",
    "# Query data from the database and join 'review' and 'business' tables\n",
    "query = '''\n",
    "    SELECT r.text, r.stars, b.stars, b.review_count, b.is_open\n",
    "    FROM review r\n",
    "    INNER JOIN business b ON r.business_id = b.business_id\n",
    "'''\n",
    "\n",
    "# Execute the query and create a Pandas DataFrame\n",
    "df = pd.read_sql_query(query, conn)\n",
    "\n",
    "# Close the connection\n",
    "conn.close()\n",
    "\n",
    "# Print the resulting DataFrame\n",
    "print(df.head())\n"
   ]
  },
  {
   "cell_type": "code",
   "execution_count": 11,
   "metadata": {},
   "outputs": [
    {
     "data": {
      "text/plain": [
       "(6990280, 5)"
      ]
     },
     "execution_count": 11,
     "metadata": {},
     "output_type": "execute_result"
    }
   ],
   "source": [
    "df.shape"
   ]
  },
  {
   "cell_type": "code",
   "execution_count": 19,
   "metadata": {},
   "outputs": [
    {
     "data": {
      "text/plain": [
       "Text(0, 0.5, 'Count')"
      ]
     },
     "execution_count": 19,
     "metadata": {},
     "output_type": "execute_result"
    },
    {
     "data": {
      "image/png": "[encoded data removed]",
      "text/plain": [
       "<Figure size 576x432 with 1 Axes>"
      ]
     },
     "metadata": {
      "needs_background": "light"
     },
     "output_type": "display_data"
    }
   ],
   "source": [
    "import matplotlib.pyplot as plt\n",
    "plt.figure(figsize=(8, 6))\n",
    "sns.barplot(x=df['is_open'].value_counts().index, y=df['is_open'].value_counts().values, palette=\"viridis\")\n",
    "plt.title('Distribution of Business Open vs. Closed Before Downsampling', fontdict={'fontsize': 14, 'verticalalignment': 'bottom'})\n",
    "plt.xlabel('Open business')\n",
    "plt.ylabel('Count')"
   ]
  },
  {
   "cell_type": "code",
   "execution_count": 20,
   "metadata": {},
   "outputs": [
    {
     "data": {
      "text/html": [
       "<div>\n",
       "<style scoped>\n",
       "    .dataframe tbody tr th:only-of-type {\n",
       "        vertical-align: middle;\n",
       "    }\n",
       "\n",
       "    .dataframe tbody tr th {\n",
       "        vertical-align: top;\n",
       "    }\n",
       "\n",
       "    .dataframe thead th {\n",
       "        text-align: right;\n",
       "    }\n",
       "</style>\n",
       "<table border=\"1\" class=\"dataframe\">\n",
       "  <thead>\n",
       "    <tr style=\"text-align: right;\">\n",
       "      <th></th>\n",
       "      <th>text</th>\n",
       "      <th>review_rating</th>\n",
       "      <th>business_rating_avg</th>\n",
       "      <th>review_count</th>\n",
       "      <th>is_open</th>\n",
       "    </tr>\n",
       "  </thead>\n",
       "  <tbody>\n",
       "    <tr>\n",
       "      <th>0</th>\n",
       "      <td>If you decide to eat here, just be aware it is...</td>\n",
       "      <td>3.0</td>\n",
       "      <td>3.0</td>\n",
       "      <td>169</td>\n",
       "      <td>1</td>\n",
       "    </tr>\n",
       "    <tr>\n",
       "      <th>1</th>\n",
       "      <td>I've taken a lot of spin classes over the year...</td>\n",
       "      <td>5.0</td>\n",
       "      <td>5.0</td>\n",
       "      <td>144</td>\n",
       "      <td>0</td>\n",
       "    </tr>\n",
       "    <tr>\n",
       "      <th>2</th>\n",
       "      <td>Family diner. Had the buffet. Eclectic assortm...</td>\n",
       "      <td>3.0</td>\n",
       "      <td>3.5</td>\n",
       "      <td>47</td>\n",
       "      <td>1</td>\n",
       "    </tr>\n",
       "    <tr>\n",
       "      <th>3</th>\n",
       "      <td>Wow!  Yummy, different,  delicious.   Our favo...</td>\n",
       "      <td>5.0</td>\n",
       "      <td>4.0</td>\n",
       "      <td>181</td>\n",
       "      <td>1</td>\n",
       "    </tr>\n",
       "    <tr>\n",
       "      <th>4</th>\n",
       "      <td>Cute interior and owner (?) gave us tour of up...</td>\n",
       "      <td>4.0</td>\n",
       "      <td>4.0</td>\n",
       "      <td>32</td>\n",
       "      <td>0</td>\n",
       "    </tr>\n",
       "  </tbody>\n",
       "</table>\n",
       "</div>"
      ],
      "text/plain": [
       "                                                text  review_rating  \\\n",
       "0  If you decide to eat here, just be aware it is...            3.0   \n",
       "1  I've taken a lot of spin classes over the year...            5.0   \n",
       "2  Family diner. Had the buffet. Eclectic assortm...            3.0   \n",
       "3  Wow!  Yummy, different,  delicious.   Our favo...            5.0   \n",
       "4  Cute interior and owner (?) gave us tour of up...            4.0   \n",
       "\n",
       "   business_rating_avg  review_count  is_open  \n",
       "0                  3.0           169        1  \n",
       "1                  5.0           144        0  \n",
       "2                  3.5            47        1  \n",
       "3                  4.0           181        1  \n",
       "4                  4.0            32        0  "
      ]
     },
     "execution_count": 20,
     "metadata": {},
     "output_type": "execute_result"
    }
   ],
   "source": [
    "column_names = ['text', 'review_rating', 'business_rating_avg', 'review_count', 'is_open']\n",
    "df.columns = column_names\n",
    "df.head()"
   ]
  },
  {
   "cell_type": "code",
   "execution_count": 21,
   "metadata": {},
   "outputs": [
    {
     "data": {
      "text/plain": [
       "1    5791234\n",
       "0    1199046\n",
       "Name: is_open, dtype: int64"
      ]
     },
     "execution_count": 21,
     "metadata": {},
     "output_type": "execute_result"
    }
   ],
   "source": [
    "df['is_open'].value_counts()"
   ]
  },
  {
   "cell_type": "code",
   "execution_count": 22,
   "metadata": {
    "scrolled": true
   },
   "outputs": [
    {
     "data": {
      "text/plain": [
       "1    1199046\n",
       "0    1199046\n",
       "Name: is_open, dtype: int64"
      ]
     },
     "execution_count": 22,
     "metadata": {},
     "output_type": "execute_result"
    }
   ],
   "source": [
    "#downsample majority class to balance the dataset\n",
    "df_minority = df[df['is_open'] == 0]\n",
    "df_majority = df[df['is_open'] == 1]\n",
    "\n",
    "downsampled_majority_df  = df_majority.sample(len(df_minority), random_state = 53)\n",
    "df_balanced = pd.concat([downsampled_majority_df, df_minority], axis=0)\n",
    "df_balanced['is_open'].value_counts()"
   ]
  },
  {
   "cell_type": "code",
   "execution_count": 23,
   "metadata": {},
   "outputs": [
    {
     "data": {
      "text/plain": [
       "Text(0, 0.5, 'Count')"
      ]
     },
     "execution_count": 23,
     "metadata": {},
     "output_type": "execute_result"
    },
    {
     "data": {
      "image/png": "[encoded data removed]",
      "text/plain": [
       "<Figure size 576x432 with 1 Axes>"
      ]
     },
     "metadata": {
      "needs_background": "light"
     },
     "output_type": "display_data"
    }
   ],
   "source": [
    "import matplotlib.pyplot as plt\n",
    "plt.figure(figsize=(8, 6))\n",
    "sns.barplot(x=df_balanced['is_open'].value_counts().index, y=df_balanced['is_open'].value_counts().values, palette=\"viridis\")\n",
    "plt.title('Distribution of Business Open vs. Closed After Downsampling', fontdict={'fontsize': 14, 'verticalalignment': 'bottom'})\n",
    "plt.xlabel('Open business')\n",
    "plt.ylabel('Count')"
   ]
  },
  {
   "cell_type": "code",
   "execution_count": 15,
   "metadata": {},
   "outputs": [
    {
     "data": {
      "text/plain": [
       "1    1199046\n",
       "0    1199046\n",
       "Name: is_open, dtype: int64"
      ]
     },
     "execution_count": 15,
     "metadata": {},
     "output_type": "execute_result"
    }
   ],
   "source": [
    "df_balanced['is_open'].value_counts()"
   ]
  },
  {
   "cell_type": "code",
   "execution_count": 10,
   "metadata": {},
   "outputs": [],
   "source": [
    "#save this dataframe for Machine Learning Classification Notebook\n",
    "df_balanced.to_csv('test_yelp.csv', index=False)"
   ]
  },
  {
   "cell_type": "markdown",
   "metadata": {},
   "source": [
    "## Incremental Data Exploration to determine other features for classification models"
   ]
  },
  {
   "cell_type": "code",
   "execution_count": 3,
   "metadata": {},
   "outputs": [
    {
     "data": {
      "text/plain": [
       "908915"
      ]
     },
     "execution_count": 3,
     "metadata": {},
     "output_type": "execute_result"
    }
   ],
   "source": [
    "# Open the JSON file in read mode\n",
    "keyword = 'text'\n",
    "keyword_list = []\n",
    "with open('data/yelp_academic_dataset_tip.json', 'r', encoding='utf-8') as tip_file:\n",
    "    # Initialize the JSON parser\n",
    "    parser = json.JSONDecoder()\n",
    "\n",
    "    # Read the file line by line\n",
    "    for line in tip_file:\n",
    "        # Parse the JSON data from the current line\n",
    "        parsed_data, idx = parser.raw_decode(line)\n",
    "\n",
    "        # Process the parsed data\n",
    "        # Example: Print the city from each JSON object\n",
    "        if keyword in parsed_data:\n",
    "            keyword_list.append(parsed_data[keyword])\n",
    "len(keyword_list)"
   ]
  },
  {
   "cell_type": "code",
   "execution_count": 4,
   "metadata": {},
   "outputs": [
    {
     "data": {
      "text/plain": [
       "['Avengers time with the ladies.',\n",
       " 'They have lots of good deserts and tasty cuban sandwiches',\n",
       " \"It's open even when you think it isn't\",\n",
       " 'Very decent fried chicken',\n",
       " 'Appetizers.. platter special for lunch',\n",
       " 'Chili Cup + Single Cheeseburger with onion, pickle, and relish + Vanilla Coca-Cola...so far.',\n",
       " \"Saturday, Dec 7th 2013, ride Patco's Silver Sleigh w/ Santa & his elves on a decorated train into Center City. Trains leave from Lindenwold at 10am, 11:15am, & 12:30pm, and make all stops. Great for kids!\",\n",
       " 'This is probably the best place in the cool Springs area to watch a game and eat',\n",
       " 'Tacos',\n",
       " 'Starbucks substitute in boring downtown Tampa. Ugh. Never again!']"
      ]
     },
     "execution_count": 4,
     "metadata": {},
     "output_type": "execute_result"
    }
   ],
   "source": [
    "keyword_list[:10]"
   ]
  },
  {
   "cell_type": "code",
   "execution_count": null,
   "metadata": {},
   "outputs": [],
   "source": []
  }
 ],
 "metadata": {
  "kernelspec": {
   "display_name": "Python (learn-env)",
   "language": "python",
   "name": "learn-env"
  },
  "language_info": {
   "codemirror_mode": {
    "name": "ipython",
    "version": 3
   },
   "file_extension": ".py",
   "mimetype": "text/x-python",
   "name": "python",
   "nbconvert_exporter": "python",
   "pygments_lexer": "ipython3",
   "version": "3.8.5"
  }
 },
 "nbformat": 4,
 "nbformat_minor": 4
}
