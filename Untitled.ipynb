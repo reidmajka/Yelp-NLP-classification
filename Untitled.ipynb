{
 "cells": [
  {
   "cell_type": "code",
   "execution_count": 1,
   "metadata": {},
   "outputs": [],
   "source": [
    "selected_coordinates = [(39.963852, -75.170921),\n",
    " (39.962799, -75.151921),\n",
    " (39.94192, -75.151921),\n",
    " (39.943675, -75.172523),\n",
    " (39.963852, -75.170921)]"
   ]
  },
  {
   "cell_type": "code",
   "execution_count": 2,
   "metadata": {},
   "outputs": [
    {
     "data": {
      "application/vnd.jupyter.widget-view+json": {
       "model_id": "bbbfd922bf7f4310897d3e0adc6440c7",
       "version_major": 2,
       "version_minor": 0
      },
      "text/plain": [
       "Map(center=[39.95288600000001, -75.162222], controls=(ZoomControl(options=['position', 'zoom_in_text', 'zoom_i…"
      ]
     },
     "metadata": {},
     "output_type": "display_data"
    }
   ],
   "source": [
    "from ipyleaflet import Map, Polygon\n",
    "\n",
    "# Create a Polygon layer with coordinates\n",
    "polygon_layer = Polygon(\n",
    "    locations=[selected_coordinates],\n",
    "    color=\"green\",\n",
    "    fill_color=\"green\",\n",
    "    fill_opacity=0.2,\n",
    "    weight=2,\n",
    ")\n",
    "\n",
    "# Calculate bounding box of the polygon\n",
    "min_lat = min(lat for lat, lon in selected_coordinates)\n",
    "max_lat = max(lat for lat, lon in selected_coordinates)\n",
    "min_lon = min(lon for lat, lon in selected_coordinates)\n",
    "max_lon = max(lon for lat, lon in selected_coordinates)\n",
    "\n",
    "# Calculate the center of the bounding box\n",
    "center_lat = (min_lat + max_lat) / 2\n",
    "center_lon = (min_lon + max_lon) / 2\n",
    "\n",
    "# Calculate the zoom level based on the bounding box dimensions\n",
    "bbox_width = max_lon - min_lon\n",
    "bbox_height = max_lat - min_lat\n",
    "max_bbox_dimension = max(bbox_width, bbox_height)\n",
    "zoom = 14 - max_bbox_dimension  # Adjust the factor as needed\n",
    "\n",
    "# Create an interactive map centered on the polygon with calculated zoom level\n",
    "m2 = Map(center=(center_lat, center_lon), zoom=zoom)\n",
    "m2.add_layer(polygon_layer)\n",
    "\n",
    "# Display the map\n",
    "display(m2)"
   ]
  },
  {
   "cell_type": "code",
   "execution_count": null,
   "metadata": {},
   "outputs": [],
   "source": []
  },
  {
   "cell_type": "code",
   "execution_count": null,
   "metadata": {},
   "outputs": [],
   "source": []
  }
 ],
 "metadata": {
  "kernelspec": {
   "display_name": "Python (learn-env)",
   "language": "python",
   "name": "learn-env"
  },
  "language_info": {
   "codemirror_mode": {
    "name": "ipython",
    "version": 3
   },
   "file_extension": ".py",
   "mimetype": "text/x-python",
   "name": "python",
   "nbconvert_exporter": "python",
   "pygments_lexer": "ipython3",
   "version": "3.8.5"
  }
 },
 "nbformat": 4,
 "nbformat_minor": 4
}
